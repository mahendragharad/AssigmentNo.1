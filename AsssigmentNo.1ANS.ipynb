{
  "nbformat": 4,
  "nbformat_minor": 0,
  "metadata": {
    "colab": {
      "provenance": []
    },
    "kernelspec": {
      "name": "python3",
      "display_name": "Python 3"
    },
    "language_info": {
      "name": "python"
    }
  },
  "cells": [
    {
      "cell_type": "markdown",
      "source": [
        "**ANS Ouestion No.1 :=**\n",
        "\n",
        "**1. In the below elements which of them are values or an expression? eg:- values can be integer or string and expressions will be mathematical operators.**\n",
        "   \n",
        "    \n",
        "    \n",
        "   * ---> \"*\" --->  This is the expression which is used for multiplication \n",
        "   *---> 'hello'--->  'hellow' is the string value.\n",
        "    \n",
        "   * --->  -87.8 ---> -87.8 it is the integer value.\n",
        "   * ---> '-' This is the expression which is used for substraction. \n",
        "   * ---> '/' This is the expression which is used for dividation.\n",
        "   * ---> '+' This is the expression which is used for adding two numbers.\n",
        "    \n",
        "   * ---> 6 ---> 6 Is the integer value \n",
        "\n"
      ],
      "metadata": {
        "id": "gtsxd5EHPi1X"
      }
    },
    {
      "cell_type": "markdown",
      "source": [
        "--------------------------------------------------------------------------------"
      ],
      "metadata": {
        "id": "8mRMP09maJ39"
      }
    },
    {
      "cell_type": "markdown",
      "source": [
        "**ANS Question No.2** := \n",
        "\n",
        "**2. What is the difference between string and variable?**\n",
        "\n",
        "Variable : A variable is store of information which is used to store the data.\n",
        "\n",
        "* For Example : a = 122 \n",
        "\n",
        "String : String is the type of information which is stored in the variable.\n",
        "\n",
        "* For Example : a = \"mahendra\" "
      ],
      "metadata": {
        "id": "pMU_FQ6JTdxf"
      }
    },
    {
      "cell_type": "markdown",
      "source": [
        "--------------------------------------------------------------------------------"
      ],
      "metadata": {
        "id": "N8Qxb6fGaOZk"
      }
    },
    {
      "cell_type": "markdown",
      "source": [
        "**ANS Question No.3** :=\n",
        "\n",
        "**3. Describe three different data types.**\n",
        "* int : Int is the data type which stored only integer values such as negative positive and zeros that type of values will be contain by this data type. \n",
        "   + For example : a = 2 \n",
        "\n",
        "* Float : Float is the data type stored only decimal values \n",
        "  + For example :  a = 2.12 \n",
        "\n",
        "* Bool : Bool is the boolian data type which gives true or false value \n",
        "  if condition becomes true it gives us true if condition is false it gives     us false "
      ],
      "metadata": {
        "id": "_5Zg-QGTVFGZ"
      }
    },
    {
      "cell_type": "markdown",
      "source": [
        "--------------------------------------------------------------------------------"
      ],
      "metadata": {
        "id": "k2q6Wl7QaSEY"
      }
    },
    {
      "cell_type": "markdown",
      "source": [
        "**ANS Question No.4**:=\n",
        "\n",
        "**4. What is an expression made up of? What do all expressions do?**\n",
        "\n",
        "Expression is made up of with combination of two operands \n",
        "when we join two operand using an operator then it form an expression.\n",
        "  \n",
        "  *  For Example : a + b it is expression which form by using an \"+\" operator.\n",
        "\n",
        "Expressions ares used to find result by combinig operators and operand to produce result.\n",
        "   \n",
        "   *  For example : a = 4 + 5 \n",
        "\n",
        "In the above examples 4 and 5 are the operands and a is the variable which stored the result of this expression."
      ],
      "metadata": {
        "id": "_pZh5egaXtck"
      }
    },
    {
      "cell_type": "markdown",
      "source": [
        "--------------------------------------------------------------------------------"
      ],
      "metadata": {
        "id": "mLGi_RvUaVoq"
      }
    },
    {
      "cell_type": "markdown",
      "source": [
        "**ANS Question No.5** :=\n",
        "\n",
        "**5. This assignment statements, like spam = 10. What is the difference between an expression and a statement?**\n",
        "\n",
        "  * Example spam = 10 \n",
        "  \n",
        "  This is the statement.\n",
        "  \n",
        "  In the above example spam is variable which holds the data that is 10.\n",
        "  Spam is variable which is used to hold the data at any momery location.\n",
        "\n",
        "  * What is expression ? \n",
        "    \n",
        "    The expression is used to form a result by combining operators and operands\n",
        "\n",
        "    CONCLUSION : When we use this type of statment __ spam = 10__ it is called assingment statement. In this statement we assign a particular value to a particular variable so we can later use it in our program. \n",
        "\n",
        "    Expresssion is used that value to perform some basic arithmetic operations. By using those values we can form expression \n",
        "\n",
        "    This is the difference between expression and assignment statement.  "
      ],
      "metadata": {
        "id": "I5Qi3FtEarWh"
      }
    },
    {
      "cell_type": "markdown",
      "source": [
        "--------------------------------------------------------------------------------"
      ],
      "metadata": {
        "id": "ofBKaJJQed06"
      }
    },
    {
      "cell_type": "markdown",
      "source": [
        "**ANS Question No.6** :=\n",
        "\n",
        "**6. After running the following code, what does the variable bacon contain?**\n",
        "\n",
        "     \n",
        "  bacon = 22\n",
        "     \n",
        "  bacon + 1\n",
        "\n",
        "  * After running the above code the variable bicon contain 23.\n"
      ],
      "metadata": {
        "id": "sD6sTBBLfBnX"
      }
    },
    {
      "cell_type": "code",
      "execution_count": 1,
      "metadata": {
        "colab": {
          "base_uri": "https://localhost:8080/"
        },
        "id": "i4fyBLFRPaVK",
        "outputId": "6b2d98b1-f680-4a0a-8648-8e751ca68285"
      },
      "outputs": [
        {
          "output_type": "execute_result",
          "data": {
            "text/plain": [
              "23"
            ]
          },
          "metadata": {},
          "execution_count": 1
        }
      ],
      "source": [
        "bacon = 22 \n",
        "bacon + 1 "
      ]
    },
    {
      "cell_type": "markdown",
      "source": [
        "--------------------------------------------------------------------------------"
      ],
      "metadata": {
        "id": "1P07w65vidso"
      }
    },
    {
      "cell_type": "markdown",
      "source": [
        "**ANS Question No.7** :=\n",
        "\n",
        "**7. What should the values of the following two terms be?** \n",
        "\n",
        "    'spam' + 'spamspam'\n",
        "   \n",
        "    'spam' * 3\n",
        "\n",
        "   OUTPUT : 'spamspamspam' \n",
        "\n",
        "   Actually what python doeses it excurte the code that which we write now \n",
        "   in the above example the output of both statment will be same but as per the rules of phython it excuted the second statement that is \n",
        "\n",
        "   'spam' * 3\n",
        "\n",
        "   And gives us the output as \n",
        "       \n",
        "      'spamspamspam' \n",
        "```\n",
        "\n",
        "\n"
      ],
      "metadata": {
        "id": "SepMsQ-Ffoju"
      }
    },
    {
      "cell_type": "code",
      "source": [
        "'spam' + 'spamspam'\n",
        "'spam' * 3\n"
      ],
      "metadata": {
        "colab": {
          "base_uri": "https://localhost:8080/",
          "height": 36
        },
        "id": "Pn_72ZGsfgo1",
        "outputId": "5fe6afe0-c6a8-4546-eda4-0aea3f3f7b7e"
      },
      "execution_count": 2,
      "outputs": [
        {
          "output_type": "execute_result",
          "data": {
            "text/plain": [
              "'spamspamspam'"
            ],
            "application/vnd.google.colaboratory.intrinsic+json": {
              "type": "string"
            }
          },
          "metadata": {},
          "execution_count": 2
        }
      ]
    },
    {
      "cell_type": "markdown",
      "source": [
        "--------------------------------------------------------------------------------"
      ],
      "metadata": {
        "id": "I3kRzkQGigwP"
      }
    },
    {
      "cell_type": "markdown",
      "source": [
        "**ANS Question No.8** :=\n",
        "\n",
        "**8. Why is eggs a valid variable name while 100 is invalid?**\n",
        "\n",
        "Because in every programmig language we can not start the variable name with integer value.\n",
        "\n",
        "It should be started with the string value.\n",
        "\n"
      ],
      "metadata": {
        "id": "U6xeXkJaikV0"
      }
    },
    {
      "cell_type": "markdown",
      "source": [
        "--------------------------------------------------------------------------------"
      ],
      "metadata": {
        "id": "McGv3UjRmMeN"
      }
    },
    {
      "cell_type": "markdown",
      "source": [
        "**ANS Question No.9**\n",
        "\n",
        "**9. What three functions can be used to get the integer, floating-point number, or string version of a value?**\n",
        "\n",
        "   * int() --> This fuction is used to get the integer value.\n",
        "   * float() --> This function is used to get the floating point value.\n",
        "   * input() --> This function is used to get string version of value either you input integer value still it gives us the string value."
      ],
      "metadata": {
        "id": "SwUr_pf6mPZX"
      }
    },
    {
      "cell_type": "markdown",
      "source": [
        "--------------------------------------------------------------------------------"
      ],
      "metadata": {
        "id": "CbOtdULfpaZS"
      }
    },
    {
      "cell_type": "markdown",
      "source": [
        "**ANS Question no.10**\n",
        "\n",
        "**10. Why does this expression cause an error? How can you fix it?**\n",
        " \n",
        "    'I have eaten ' + 99 + ' burritos.'\n",
        "\n"
      ],
      "metadata": {
        "id": "jSOzCGu9pd7g"
      }
    },
    {
      "cell_type": "code",
      "source": [
        "'I have eaten ' + 99 + ' burritos.'"
      ],
      "metadata": {
        "colab": {
          "base_uri": "https://localhost:8080/",
          "height": 165
        },
        "id": "iVx07e8df7q2",
        "outputId": "269ad6f8-9bfd-464d-f842-fc706553a6ca"
      },
      "execution_count": 3,
      "outputs": [
        {
          "output_type": "error",
          "ename": "TypeError",
          "evalue": "ignored",
          "traceback": [
            "\u001b[0;31m---------------------------------------------------------------------------\u001b[0m",
            "\u001b[0;31mTypeError\u001b[0m                                 Traceback (most recent call last)",
            "\u001b[0;32m<ipython-input-3-d24137131a5c>\u001b[0m in \u001b[0;36m<module>\u001b[0;34m\u001b[0m\n\u001b[0;32m----> 1\u001b[0;31m \u001b[0;34m'I have eaten '\u001b[0m \u001b[0;34m+\u001b[0m \u001b[0;36m99\u001b[0m \u001b[0;34m+\u001b[0m \u001b[0;34m' burritos.'\u001b[0m\u001b[0;34m\u001b[0m\u001b[0;34m\u001b[0m\u001b[0m\n\u001b[0m",
            "\u001b[0;31mTypeError\u001b[0m: can only concatenate str (not \"int\") to str"
          ]
        }
      ]
    },
    {
      "cell_type": "markdown",
      "source": [
        "It throw us error because we are trying to concatanate the integer value with the string.\n",
        "\n",
        "To concatnate the integer value we have to conver the integer value into the string value as follows."
      ],
      "metadata": {
        "id": "nNScHQkDp2Mx"
      }
    },
    {
      "cell_type": "code",
      "source": [
        "'I have eaten ' + \"99\" + ' burritos.'"
      ],
      "metadata": {
        "colab": {
          "base_uri": "https://localhost:8080/",
          "height": 36
        },
        "id": "Ek_dKAb2qU9x",
        "outputId": "4a252b4b-dc10-48a3-aed8-98c4a1a28216"
      },
      "execution_count": 7,
      "outputs": [
        {
          "output_type": "execute_result",
          "data": {
            "text/plain": [
              "'I have eaten 99 burritos.'"
            ],
            "application/vnd.google.colaboratory.intrinsic+json": {
              "type": "string"
            }
          },
          "metadata": {},
          "execution_count": 7
        }
      ]
    },
    {
      "cell_type": "markdown",
      "source": [
        "--------------------------------------------------------------------------------"
      ],
      "metadata": {
        "id": "uOWy8pwarqy7"
      }
    },
    {
      "cell_type": "code",
      "source": [],
      "metadata": {
        "id": "mhYV4CuArmby"
      },
      "execution_count": null,
      "outputs": []
    }
  ]
}